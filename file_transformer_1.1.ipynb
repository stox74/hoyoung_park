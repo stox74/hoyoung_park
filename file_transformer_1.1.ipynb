{
 "cells": [
  {
   "cell_type": "code",
   "execution_count": 3,
   "metadata": {},
   "outputs": [],
   "source": [
    "from IPython.core.interactiveshell import InteractiveShell\n",
    "InteractiveShell.ast_node_interactivity = \"all\"\n",
    "\n",
    "import pyexcel as pe\n",
    "\n",
    "book = pe.get_book(file_name=\"market_cap_1.0.xlsm\")\n",
    "\n",
    "for sheet_name in book.sheet_names():\n",
    "    sheet = book.sheet_by_name(sheet_name)\n",
    "    sheet.delete_rows(list(range(12)))\n",
    "    sheet.save_as(sheet_name + \".xlsx\")   # str(year)"
   ]
  },
  {
   "cell_type": "code",
   "execution_count": null,
   "metadata": {},
   "outputs": [],
   "source": []
  }
 ],
 "metadata": {
  "kernelspec": {
   "display_name": "Python 3",
   "language": "python",
   "name": "python3"
  },
  "language_info": {
   "codemirror_mode": {
    "name": "ipython",
    "version": 3
   },
   "file_extension": ".py",
   "mimetype": "text/x-python",
   "name": "python",
   "nbconvert_exporter": "python",
   "pygments_lexer": "ipython3",
   "version": "3.6.5"
  }
 },
 "nbformat": 4,
 "nbformat_minor": 2
}
