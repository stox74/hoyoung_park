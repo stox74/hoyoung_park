{
  "nbformat": 4,
  "nbformat_minor": 0,
  "metadata": {
    "colab": {
      "name": "이데일리_크롤링.ipynb",
      "provenance": [],
      "collapsed_sections": [],
      "authorship_tag": "ABX9TyPFLeTm/YRVAkd9OObnYG4H",
      "include_colab_link": true
    },
    "kernelspec": {
      "name": "python3",
      "display_name": "Python 3"
    }
  },
  "cells": [
    {
      "cell_type": "markdown",
      "metadata": {
        "id": "view-in-github",
        "colab_type": "text"
      },
      "source": [
        "<a href=\"https://colab.research.google.com/github/stox74/hoyoung_park/blob/master/%EC%9D%B4%EB%8D%B0%EC%9D%BC%EB%A6%AC_%ED%81%AC%EB%A1%A4%EB%A7%81.ipynb\" target=\"_parent\"><img src=\"https://colab.research.google.com/assets/colab-badge.svg\" alt=\"Open In Colab\"/></a>"
      ]
    },
    {
      "cell_type": "code",
      "metadata": {
        "colab": {
          "base_uri": "https://localhost:8080/"
        },
        "id": "6D5n15aoFGn0",
        "outputId": "8811c6f2-95eb-4688-e6fd-e52fc981dfd6"
      },
      "source": [
        "from google.colab import auth\n",
        "auth.authenticate_user()\n",
        "\n",
        "from google.colab import drive\n",
        "drive.mount('/content/gdrive')"
      ],
      "execution_count": null,
      "outputs": [
        {
          "output_type": "stream",
          "text": [
            "Mounted at /content/gdrive\n"
          ],
          "name": "stdout"
        }
      ]
    },
    {
      "cell_type": "code",
      "metadata": {
        "id": "tRD2UDMCFf0o"
      },
      "source": [
        "import pandas as pd\n",
        "import numpy as np\n",
        "import urllib.request \n",
        "import bs4"
      ],
      "execution_count": null,
      "outputs": []
    },
    {
      "cell_type": "code",
      "metadata": {
        "colab": {
          "base_uri": "https://localhost:8080/"
        },
        "id": "A-pwHOWwFiPL",
        "outputId": "00d3f752-0203-4625-a028-ea2165481472"
      },
      "source": [
        "title_list = []\n",
        "content_list = []\n",
        "dates_list = []\n",
        "all_text = []\n",
        "\n",
        "for i in range(20):\n",
        "    print(i)\n",
        "    URL = 'https://www.edaily.co.kr/search/news/?keyword=%ea%b8%88%eb%a6%ac%ec%83%81%ec%8a%b9&page={}'.format(i)\n",
        "    html = urllib.request.urlopen(URL)\n",
        "    bs_obj = bs4.BeautifulSoup(html, \"html.parser\")\n",
        "    title_txt = bs_obj.findAll('div', {'class': 'newsbox_04'})\n",
        "\n",
        "    for title in title_txt:\n",
        "        content = title.find('a').get_text()\n",
        "        content = content.replace('\\n', '')\n",
        "        title = content.split('기자]')[0]\n",
        "        title = content.split('[이데일리')[0]\n",
        "        title_list.append(title)\n",
        "\n",
        "    for txt in title_txt:\n",
        "        content = txt.find('a').get_text()\n",
        "        content = content.replace('\\n', '')\n",
        "        content_list.append(content)\n",
        "\n",
        "    for dt in title_txt:\n",
        "        dates = dt.find('div', {'class': 'author_category'}).get_text()\n",
        "        tmp = dates.split('\\r\\n')[1]\n",
        "        tmp = tmp.replace(' ','')\n",
        "        dates_list.append(tmp)"
      ],
      "execution_count": null,
      "outputs": [
        {
          "output_type": "stream",
          "text": [
            "0\n",
            "1\n",
            "2\n",
            "3\n",
            "4\n",
            "5\n",
            "6\n",
            "7\n",
            "8\n",
            "9\n",
            "10\n",
            "11\n",
            "12\n",
            "13\n",
            "14\n",
            "15\n",
            "16\n",
            "17\n",
            "18\n",
            "19\n"
          ],
          "name": "stdout"
        }
      ]
    },
    {
      "cell_type": "code",
      "metadata": {
        "colab": {
          "base_uri": "https://localhost:8080/",
          "height": 402
        },
        "id": "NX2c6p9UF79t",
        "outputId": "dd329096-cb8a-443f-f863-87701b185caf"
      },
      "source": [
        "text_df = pd.concat([pd.Series(title_list), pd.Series(dates_list), pd.Series(content_list)], axis=1)\n",
        "text_df.columns = ['title', 'Date', 'news_text']\n",
        "\n",
        "text_list = []\n",
        "\n",
        "for i in range(0,len(text_df)):\n",
        "    temp_list = text_df.iloc[i]['news_text'].split('.')\n",
        "    for txt in temp_list:\n",
        "        if txt != '':\n",
        "            text_list.append((text_df.iloc[i]['Date'],txt,len(txt)))\n",
        "\n",
        "target_sentence = pd.DataFrame(text_list,columns = ['date','text','len'])\n",
        "target_sentence = target_sentence.loc[target_sentence['len'] >= 20]\n",
        "target_sentence"
      ],
      "execution_count": null,
      "outputs": [
        {
          "output_type": "execute_result",
          "data": {
            "text/html": [
              "<div>\n",
              "<style scoped>\n",
              "    .dataframe tbody tr th:only-of-type {\n",
              "        vertical-align: middle;\n",
              "    }\n",
              "\n",
              "    .dataframe tbody tr th {\n",
              "        vertical-align: top;\n",
              "    }\n",
              "\n",
              "    .dataframe thead th {\n",
              "        text-align: right;\n",
              "    }\n",
              "</style>\n",
              "<table border=\"1\" class=\"dataframe\">\n",
              "  <thead>\n",
              "    <tr style=\"text-align: right;\">\n",
              "      <th></th>\n",
              "      <th>date</th>\n",
              "      <th>text</th>\n",
              "      <th>len</th>\n",
              "    </tr>\n",
              "  </thead>\n",
              "  <tbody>\n",
              "    <tr>\n",
              "      <th>0</th>\n",
              "      <td>2021.03.18</td>\n",
              "      <td>[코스피 마감]`파월 효과`…금리 상승 우려 떨치며 `3060선` 회복[이데일리 조...</td>\n",
              "      <td>84</td>\n",
              "    </tr>\n",
              "    <tr>\n",
              "      <th>1</th>\n",
              "      <td>2021.03.18</td>\n",
              "      <td>간밤 미국 연방공개시장위원회(FOMC)에서 파월 의장이 기준금리 인상 및 테이퍼링...</td>\n",
              "      <td>84</td>\n",
              "    </tr>\n",
              "    <tr>\n",
              "      <th>2</th>\n",
              "      <td>2021.03.18</td>\n",
              "      <td>코스피 일일시황(자료 = 신한 HTS)이날 마켓포인트에 따르면 코스피 지수는 전 ...</td>\n",
              "      <td>54</td>\n",
              "    </tr>\n",
              "    <tr>\n",
              "      <th>7</th>\n",
              "      <td>2021.03.18</td>\n",
              "      <td>전날 FOMC 결과에 대한 경계감으로 하락 마감, 3040선까지 떨어졌던 코스피 ...</td>\n",
              "      <td>66</td>\n",
              "    </tr>\n",
              "    <tr>\n",
              "      <th>8</th>\n",
              "      <td>2021.03.18</td>\n",
              "      <td>간밤 미국 연방준비제도(Fed·연준)의 FOMC 정례회의 결과가 영향을 미친 것으...</td>\n",
              "      <td>51</td>\n",
              "    </tr>\n",
              "    <tr>\n",
              "      <th>...</th>\n",
              "      <td>...</td>\n",
              "      <td>...</td>\n",
              "      <td>...</td>\n",
              "    </tr>\n",
              "    <tr>\n",
              "      <th>12663</th>\n",
              "      <td>2021.03.02</td>\n",
              "      <td>미국에서 가장 오래된 은행인 뉴욕멜론은행은 비트코인 통합 서비스를 지원하겠다고 지...</td>\n",
              "      <td>52</td>\n",
              "    </tr>\n",
              "    <tr>\n",
              "      <th>12664</th>\n",
              "      <td>2021.03.02</td>\n",
              "      <td>JP모건도 비트코인을 ‘진지하게’ 들여다보고 있다고 언급했다</td>\n",
              "      <td>34</td>\n",
              "    </tr>\n",
              "    <tr>\n",
              "      <th>12665</th>\n",
              "      <td>2021.03.02</td>\n",
              "      <td>지난 2018년 비트코인 폭락장 이후 사실상 사업을 접은 골드만삭스도 가상자산 트...</td>\n",
              "      <td>68</td>\n",
              "    </tr>\n",
              "    <tr>\n",
              "      <th>12666</th>\n",
              "      <td>2021.03.02</td>\n",
              "      <td>기관투자자들의 관심을 등에 업은 비트코인이 지난 1년간 470% 넘게 폭등하는가 ...</td>\n",
              "      <td>136</td>\n",
              "    </tr>\n",
              "    <tr>\n",
              "      <th>12667</th>\n",
              "      <td>2021.03.02</td>\n",
              "      <td>골드만삭스는 다음 주부터 비트코인 선물거래와 역외차액결제선물환, NDF 등 파생상품...</td>\n",
              "      <td>59</td>\n",
              "    </tr>\n",
              "  </tbody>\n",
              "</table>\n",
              "<p>8581 rows × 3 columns</p>\n",
              "</div>"
            ],
            "text/plain": [
              "             date                                               text  len\n",
              "0      2021.03.18  [코스피 마감]`파월 효과`…금리 상승 우려 떨치며 `3060선` 회복[이데일리 조...   84\n",
              "1      2021.03.18   간밤 미국 연방공개시장위원회(FOMC)에서 파월 의장이 기준금리 인상 및 테이퍼링...   84\n",
              "2      2021.03.18   코스피 일일시황(자료 = 신한 HTS)이날 마켓포인트에 따르면 코스피 지수는 전 ...   54\n",
              "7      2021.03.18   전날 FOMC 결과에 대한 경계감으로 하락 마감, 3040선까지 떨어졌던 코스피 ...   66\n",
              "8      2021.03.18   간밤 미국 연방준비제도(Fed·연준)의 FOMC 정례회의 결과가 영향을 미친 것으...   51\n",
              "...           ...                                                ...  ...\n",
              "12663  2021.03.02   미국에서 가장 오래된 은행인 뉴욕멜론은행은 비트코인 통합 서비스를 지원하겠다고 지...   52\n",
              "12664  2021.03.02                  JP모건도 비트코인을 ‘진지하게’ 들여다보고 있다고 언급했다   34\n",
              "12665  2021.03.02   지난 2018년 비트코인 폭락장 이후 사실상 사업을 접은 골드만삭스도 가상자산 트...   68\n",
              "12666  2021.03.02   기관투자자들의 관심을 등에 업은 비트코인이 지난 1년간 470% 넘게 폭등하는가 ...  136\n",
              "12667  2021.03.02  골드만삭스는 다음 주부터 비트코인 선물거래와 역외차액결제선물환, NDF 등 파생상품...   59\n",
              "\n",
              "[8581 rows x 3 columns]"
            ]
          },
          "metadata": {
            "tags": []
          },
          "execution_count": 97
        }
      ]
    },
    {
      "cell_type": "code",
      "metadata": {
        "colab": {
          "base_uri": "https://localhost:8080/",
          "height": 195
        },
        "id": "rFSVdA74TvqU",
        "outputId": "24a36555-a516-43be-dadc-0c12dac38bbc"
      },
      "source": [
        "text_df.tail()"
      ],
      "execution_count": null,
      "outputs": [
        {
          "output_type": "execute_result",
          "data": {
            "text/html": [
              "<div>\n",
              "<style scoped>\n",
              "    .dataframe tbody tr th:only-of-type {\n",
              "        vertical-align: middle;\n",
              "    }\n",
              "\n",
              "    .dataframe tbody tr th {\n",
              "        vertical-align: top;\n",
              "    }\n",
              "\n",
              "    .dataframe thead th {\n",
              "        text-align: right;\n",
              "    }\n",
              "</style>\n",
              "<table border=\"1\" class=\"dataframe\">\n",
              "  <thead>\n",
              "    <tr style=\"text-align: right;\">\n",
              "      <th></th>\n",
              "      <th>title</th>\n",
              "      <th>Date</th>\n",
              "      <th>news_text</th>\n",
              "    </tr>\n",
              "  </thead>\n",
              "  <tbody>\n",
              "    <tr>\n",
              "      <th>375</th>\n",
              "      <td>코스피, 외인·기관 매수세에 2.5% 상승 출발 `3080선`</td>\n",
              "      <td>2021.03.02</td>\n",
              "      <td>코스피, 외인·기관 매수세에 2.5% 상승 출발 `3080선`[이데일리 유준하 기자...</td>\n",
              "    </tr>\n",
              "    <tr>\n",
              "      <th>376</th>\n",
              "      <td>2·4대책보다 센 GTX 파급력?…수도권 집값 상승폭 역대 최대</td>\n",
              "      <td>2021.03.02</td>\n",
              "      <td>2·4대책보다 센 GTX 파급력?…수도권 집값 상승폭 역대 최대[이데일리 김나리 기...</td>\n",
              "    </tr>\n",
              "    <tr>\n",
              "      <th>377</th>\n",
              "      <td>한화에어로스페이스, 안정적 이익 성장 전망…목표가↑ -신한</td>\n",
              "      <td>2021.03.02</td>\n",
              "      <td>한화에어로스페이스, 안정적 이익 성장 전망…목표가↑ -신한[이데일리 조해영 기자] ...</td>\n",
              "    </tr>\n",
              "    <tr>\n",
              "      <th>378</th>\n",
              "      <td>[목멱칼럼]어른거리는 '자산 인플레' 그림자백신보급 효과가 나타나며 경기회복과 인플...</td>\n",
              "      <td>2021.03.02</td>\n",
              "      <td>[목멱칼럼]어른거리는 '자산 인플레' 그림자백신보급 효과가 나타나며 경기회복과 인플...</td>\n",
              "    </tr>\n",
              "    <tr>\n",
              "      <th>379</th>\n",
              "      <td>하루만에 6000달러 오른 비트코인…5만달러 고지 탈환하나4만달러 초반대로 떨어진 ...</td>\n",
              "      <td>2021.03.02</td>\n",
              "      <td>하루만에 6000달러 오른 비트코인…5만달러 고지 탈환하나4만달러 초반대로 떨어진 ...</td>\n",
              "    </tr>\n",
              "  </tbody>\n",
              "</table>\n",
              "</div>"
            ],
            "text/plain": [
              "                                                 title  ...                                          news_text\n",
              "375                 코스피, 외인·기관 매수세에 2.5% 상승 출발 `3080선`  ...  코스피, 외인·기관 매수세에 2.5% 상승 출발 `3080선`[이데일리 유준하 기자...\n",
              "376                2·4대책보다 센 GTX 파급력?…수도권 집값 상승폭 역대 최대  ...  2·4대책보다 센 GTX 파급력?…수도권 집값 상승폭 역대 최대[이데일리 김나리 기...\n",
              "377                   한화에어로스페이스, 안정적 이익 성장 전망…목표가↑ -신한  ...  한화에어로스페이스, 안정적 이익 성장 전망…목표가↑ -신한[이데일리 조해영 기자] ...\n",
              "378  [목멱칼럼]어른거리는 '자산 인플레' 그림자백신보급 효과가 나타나며 경기회복과 인플...  ...  [목멱칼럼]어른거리는 '자산 인플레' 그림자백신보급 효과가 나타나며 경기회복과 인플...\n",
              "379  하루만에 6000달러 오른 비트코인…5만달러 고지 탈환하나4만달러 초반대로 떨어진 ...  ...  하루만에 6000달러 오른 비트코인…5만달러 고지 탈환하나4만달러 초반대로 떨어진 ...\n",
              "\n",
              "[5 rows x 3 columns]"
            ]
          },
          "metadata": {
            "tags": []
          },
          "execution_count": 99
        }
      ]
    },
    {
      "cell_type": "code",
      "metadata": {
        "id": "-w8YgqpWYeSR"
      },
      "source": [
        ""
      ],
      "execution_count": null,
      "outputs": []
    }
  ]
}